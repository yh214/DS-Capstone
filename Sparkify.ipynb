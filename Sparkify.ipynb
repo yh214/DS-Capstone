{
 "cells": [
  {
   "cell_type": "markdown",
   "metadata": {},
   "source": [
    "# Sparkify Project Workspace\n",
    "This workspace contains a tiny subset (128MB) of the full dataset available (12GB). Feel free to use this workspace to build your project, or to explore a smaller subset with Spark before deploying your cluster on the cloud. Instructions for setting up your Spark cluster is included in the last lesson of the Extracurricular Spark Course content.\n",
    "\n",
    "You can follow the steps below to guide your data analysis and model building portion of this project."
   ]
  },
  {
   "cell_type": "code",
   "execution_count": 1,
   "metadata": {},
   "outputs": [],
   "source": [
    "# import libraries\n",
    "from pyspark.sql import SparkSession\n",
    "from pyspark.sql.functions import avg, col, concat, desc, explode, lit, max, split, udf\n",
    "from pyspark.sql.functions import sum as Fsum\n",
    "from pyspark.sql.functions import min as Fmin\n",
    "from pyspark.sql.functions import max as Fmax\n",
    "from pyspark.sql.types import IntegerType, FloatType\n",
    "from pyspark.sql import Window\n",
    "\n",
    "from pyspark.ml import Pipeline\n",
    "from pyspark.ml.classification import LogisticRegression, RandomForestClassifier, GBTClassifier, LinearSVC\n",
    "from pyspark.ml.classification import LogisticRegressionModel, RandomForestClassificationModel, GBTClassificationModel\n",
    "from pyspark.ml.evaluation import BinaryClassificationEvaluator\n",
    "from pyspark.ml.feature import CountVectorizer, IDF, Normalizer, PCA, RegexTokenizer, StandardScaler, StopWordsRemover, StringIndexer, VectorAssembler\n",
    "from pyspark.ml.tuning import CrossValidator, ParamGridBuilder, CrossValidatorModel\n",
    "\n",
    "import datetime\n",
    "import re\n",
    "import matplotlib.pyplot as plt\n",
    "import pandas as pd\n",
    "import seaborn as sns"
   ]
  },
  {
   "cell_type": "code",
   "execution_count": 2,
   "metadata": {},
   "outputs": [],
   "source": [
    "# create a Spark session\n",
    "spark = SparkSession \\\n",
    "    .builder \\\n",
    "    .appName(\"Sparkify\") \\\n",
    "    .getOrCreate()"
   ]
  },
  {
   "cell_type": "markdown",
   "metadata": {},
   "source": [
    "# Load and Clean Dataset\n",
    "In this workspace, the mini-dataset file is `mini_sparkify_event_data.json`. Load and clean the dataset, checking for invalid or missing data - for example, records without userids or sessionids. "
   ]
  },
  {
   "cell_type": "code",
   "execution_count": 3,
   "metadata": {},
   "outputs": [
    {
     "data": {
      "text/plain": [
       "DataFrame[artist: string, auth: string, firstName: string, gender: string, itemInSession: bigint, lastName: string, length: double, level: string, location: string, method: string, page: string, registration: bigint, sessionId: bigint, song: string, status: bigint, ts: bigint, userAgent: string, userId: string]"
      ]
     },
     "execution_count": 3,
     "metadata": {},
     "output_type": "execute_result"
    }
   ],
   "source": [
    "mini_df = spark.read.json(\"mini_sparkify_event_data.json\")\n",
    "mini_df.persist()"
   ]
  },
  {
   "cell_type": "code",
   "execution_count": 4,
   "metadata": {},
   "outputs": [
    {
     "name": "stdout",
     "output_type": "stream",
     "text": [
      "root\n",
      " |-- artist: string (nullable = true)\n",
      " |-- auth: string (nullable = true)\n",
      " |-- firstName: string (nullable = true)\n",
      " |-- gender: string (nullable = true)\n",
      " |-- itemInSession: long (nullable = true)\n",
      " |-- lastName: string (nullable = true)\n",
      " |-- length: double (nullable = true)\n",
      " |-- level: string (nullable = true)\n",
      " |-- location: string (nullable = true)\n",
      " |-- method: string (nullable = true)\n",
      " |-- page: string (nullable = true)\n",
      " |-- registration: long (nullable = true)\n",
      " |-- sessionId: long (nullable = true)\n",
      " |-- song: string (nullable = true)\n",
      " |-- status: long (nullable = true)\n",
      " |-- ts: long (nullable = true)\n",
      " |-- userAgent: string (nullable = true)\n",
      " |-- userId: string (nullable = true)\n",
      "\n"
     ]
    }
   ],
   "source": [
    "mini_df.printSchema()"
   ]
  },
  {
   "cell_type": "code",
   "execution_count": 5,
   "metadata": {},
   "outputs": [
    {
     "data": {
      "text/plain": [
       "286500"
      ]
     },
     "execution_count": 5,
     "metadata": {},
     "output_type": "execute_result"
    }
   ],
   "source": [
    "mini_df.count()"
   ]
  },
  {
   "cell_type": "code",
   "execution_count": 6,
   "metadata": {},
   "outputs": [
    {
     "data": {
      "text/plain": [
       "226"
      ]
     },
     "execution_count": 6,
     "metadata": {},
     "output_type": "execute_result"
    }
   ],
   "source": [
    "mini_df.select(\"userId\").dropDuplicates().count()"
   ]
  },
  {
   "cell_type": "markdown",
   "metadata": {},
   "source": [
    "Firstly we will drop all the data without userId and sessionId."
   ]
  },
  {
   "cell_type": "code",
   "execution_count": 5,
   "metadata": {},
   "outputs": [
    {
     "data": {
      "text/plain": [
       "286500"
      ]
     },
     "execution_count": 5,
     "metadata": {},
     "output_type": "execute_result"
    }
   ],
   "source": [
    "mini_df_clean = mini_df.dropna(how = \"any\", subset = [\"userId\", \"sessionId\"])\n",
    "mini_df_clean.count()"
   ]
  },
  {
   "cell_type": "markdown",
   "metadata": {},
   "source": [
    "Also, we need to clean the data where userId and sessionId is empty."
   ]
  },
  {
   "cell_type": "code",
   "execution_count": 7,
   "metadata": {},
   "outputs": [
    {
     "name": "stdout",
     "output_type": "stream",
     "text": [
      "+--------------------+---------+---------+------+-------------+--------+---------+-----+--------------------+------+---------------+-------------+---------+--------------------+------+-------------+--------------------+------+\n",
      "|              artist|     auth|firstName|gender|itemInSession|lastName|   length|level|            location|method|           page| registration|sessionId|                song|status|           ts|           userAgent|userId|\n",
      "+--------------------+---------+---------+------+-------------+--------+---------+-----+--------------------+------+---------------+-------------+---------+--------------------+------+-------------+--------------------+------+\n",
      "|      Martha Tilston|Logged In|    Colin|     M|           50| Freeman|277.89016| paid|     Bakersfield, CA|   PUT|       NextSong|1538173362000|       29|           Rockpools|   200|1538352117000|Mozilla/5.0 (Wind...|    30|\n",
      "|    Five Iron Frenzy|Logged In|    Micah|     M|           79|    Long|236.09424| free|Boston-Cambridge-...|   PUT|       NextSong|1538331630000|        8|              Canada|   200|1538352180000|\"Mozilla/5.0 (Win...|     9|\n",
      "|        Adam Lambert|Logged In|    Colin|     M|           51| Freeman| 282.8273| paid|     Bakersfield, CA|   PUT|       NextSong|1538173362000|       29|   Time For Miracles|   200|1538352394000|Mozilla/5.0 (Wind...|    30|\n",
      "|              Enigma|Logged In|    Micah|     M|           80|    Long|262.71302| free|Boston-Cambridge-...|   PUT|       NextSong|1538331630000|        8|Knocking On Forbi...|   200|1538352416000|\"Mozilla/5.0 (Win...|     9|\n",
      "|           Daft Punk|Logged In|    Colin|     M|           52| Freeman|223.60771| paid|     Bakersfield, CA|   PUT|       NextSong|1538173362000|       29|Harder Better Fas...|   200|1538352676000|Mozilla/5.0 (Wind...|    30|\n",
      "|The All-American ...|Logged In|    Micah|     M|           81|    Long|208.29995| free|Boston-Cambridge-...|   PUT|       NextSong|1538331630000|        8|      Don't Leave Me|   200|1538352678000|\"Mozilla/5.0 (Win...|     9|\n",
      "|The Velvet Underg...|Logged In|    Micah|     M|           82|    Long|260.46649| free|Boston-Cambridge-...|   PUT|       NextSong|1538331630000|        8|         Run Run Run|   200|1538352886000|\"Mozilla/5.0 (Win...|     9|\n",
      "|        Starflyer 59|Logged In|    Colin|     M|           53| Freeman|185.44281| paid|     Bakersfield, CA|   PUT|       NextSong|1538173362000|       29|Passengers (Old A...|   200|1538352899000|Mozilla/5.0 (Wind...|    30|\n",
      "|                null|Logged In|    Colin|     M|           54| Freeman|     null| paid|     Bakersfield, CA|   PUT|Add to Playlist|1538173362000|       29|                null|   200|1538352905000|Mozilla/5.0 (Wind...|    30|\n",
      "|            Frumpies|Logged In|    Colin|     M|           55| Freeman|134.47791| paid|     Bakersfield, CA|   PUT|       NextSong|1538173362000|       29|          Fuck Kitty|   200|1538353084000|Mozilla/5.0 (Wind...|    30|\n",
      "|        Britt Nicole|Logged In|    Micah|     M|           83|    Long| 229.8771| free|Boston-Cambridge-...|   PUT|       NextSong|1538331630000|        8|   Walk On The Water|   200|1538353146000|\"Mozilla/5.0 (Win...|     9|\n",
      "|                null|Logged In|    Micah|     M|           84|    Long|     null| free|Boston-Cambridge-...|   GET|    Roll Advert|1538331630000|        8|                null|   200|1538353150000|\"Mozilla/5.0 (Win...|     9|\n",
      "|Edward Sharpe & T...|Logged In|    Colin|     M|           56| Freeman|223.58159| paid|     Bakersfield, CA|   PUT|       NextSong|1538173362000|       29|                Jade|   200|1538353218000|Mozilla/5.0 (Wind...|    30|\n",
      "|               Tesla|Logged In|    Micah|     M|           85|    Long|201.06404| free|Boston-Cambridge-...|   PUT|       NextSong|1538331630000|        8|      Gettin' Better|   200|1538353375000|\"Mozilla/5.0 (Win...|     9|\n",
      "|                null|Logged In|    Micah|     M|           86|    Long|     null| free|Boston-Cambridge-...|   PUT|      Thumbs Up|1538331630000|        8|                null|   307|1538353376000|\"Mozilla/5.0 (Win...|     9|\n",
      "|         Stan Mosley|Logged In|    Colin|     M|           57| Freeman|246.69995| paid|     Bakersfield, CA|   PUT|       NextSong|1538173362000|       29|   So-Called Friends|   200|1538353441000|Mozilla/5.0 (Wind...|    30|\n",
      "|Florence + The Ma...|Logged In|    Micah|     M|           87|    Long|168.64608| free|Boston-Cambridge-...|   PUT|       NextSong|1538331630000|        8| You've Got The Love|   200|1538353576000|\"Mozilla/5.0 (Win...|     9|\n",
      "|   Tokyo Police Club|Logged In|  Ashlynn|     F|            0|Williams| 166.1122| free|     Tallahassee, FL|   PUT|       NextSong|1537365219000|      217|Citizens Of Tomorrow|   200|1538353668000|\"Mozilla/5.0 (Mac...|    74|\n",
      "|             Orishas|Logged In|    Colin|     M|           58| Freeman|222.22322| paid|     Bakersfield, CA|   PUT|       NextSong|1538173362000|       29|           Represent|   200|1538353687000|Mozilla/5.0 (Wind...|    30|\n",
      "|             Ratatat|Logged In|    Micah|     M|           88|    Long|229.77261| free|Boston-Cambridge-...|   PUT|       NextSong|1538331630000|        8|              Swisha|   200|1538353744000|\"Mozilla/5.0 (Win...|     9|\n",
      "+--------------------+---------+---------+------+-------------+--------+---------+-----+--------------------+------+---------------+-------------+---------+--------------------+------+-------------+--------------------+------+\n",
      "only showing top 20 rows\n",
      "\n"
     ]
    },
    {
     "data": {
      "text/plain": [
       "278154"
      ]
     },
     "execution_count": 7,
     "metadata": {},
     "output_type": "execute_result"
    }
   ],
   "source": [
    "mini_df_clean = mini_df_clean.where(mini_df.userId != \"\")\n",
    "mini_df_clean.show()\n",
    "mini_df_clean.count()"
   ]
  },
  {
   "cell_type": "code",
   "execution_count": 10,
   "metadata": {},
   "outputs": [
    {
     "name": "stdout",
     "output_type": "stream",
     "text": [
      "+-------+------------------+\n",
      "|summary|            length|\n",
      "+-------+------------------+\n",
      "|  count|             65959|\n",
      "|   mean|247.89207490456192|\n",
      "| stddev|104.99056377693502|\n",
      "|    min|           0.78322|\n",
      "|    max|        3024.66567|\n",
      "+-------+------------------+\n",
      "\n"
     ]
    }
   ],
   "source": [
    "mini_df_clean.where(mini_df_clean.song != \"null\").select([\"song\", \"length\"]).dropDuplicates().describe([\"length\"]).show()"
   ]
  },
  {
   "cell_type": "code",
   "execution_count": 19,
   "metadata": {},
   "outputs": [
    {
     "name": "stdout",
     "output_type": "stream",
     "text": [
      "+----+-----+\n",
      "|hour|count|\n",
      "+----+-----+\n",
      "|   0| 9062|\n",
      "|   1| 8388|\n",
      "|   2| 8336|\n",
      "|   3| 8355|\n",
      "|   4| 8147|\n",
      "|   5| 8178|\n",
      "|   6| 8054|\n",
      "|   7| 8091|\n",
      "|   8| 8253|\n",
      "|   9| 8498|\n",
      "|  10| 8882|\n",
      "|  11| 8830|\n",
      "|  12| 9326|\n",
      "|  13| 9644|\n",
      "|  14|10494|\n",
      "|  15|11354|\n",
      "|  16|11636|\n",
      "|  17|11460|\n",
      "|  18|11124|\n",
      "|  19|10930|\n",
      "|  20|10856|\n",
      "|  21|10458|\n",
      "|  22|10122|\n",
      "|  23| 9630|\n",
      "+----+-----+\n",
      "\n"
     ]
    }
   ],
   "source": [
    "get_hour = udf(lambda x: datetime.datetime.fromtimestamp(x / 1000.0).hour)\n",
    "mini_df_clean = mini_df_clean.withColumn(\"hour\", get_hour(mini_df_clean.ts))\n",
    "mini_df_clean.filter(mini_df_clean.page == \"NextSong\") \\\n",
    "    .groupby(mini_df_clean.hour).count().orderBy(mini_df_clean.hour.cast(\"float\")).show(24)"
   ]
  },
  {
   "cell_type": "code",
   "execution_count": 12,
   "metadata": {},
   "outputs": [
    {
     "name": "stdout",
     "output_type": "stream",
     "text": [
      "+--------+---------+---------+------+-------------+----------+-------+-----+-----------------+------+--------+-------------+---------+--------------------+------+-------------+--------------------+------+\n",
      "|  artist|     auth|firstName|gender|itemInSession|  lastName| length|level|         location|method|    page| registration|sessionId|                song|status|           ts|           userAgent|userId|\n",
      "+--------+---------+---------+------+-------------+----------+-------+-----+-----------------+------+--------+-------------+---------+--------------------+------+-------------+--------------------+------+\n",
      "|Dorantes|Logged In|Elizabeth|     F|           47|Washington|0.78322| paid|Oklahoma City, OK|   PUT|NextSong|1532472246000|     1599|La Danza De Las S...|   200|1542579601000|\"Mozilla/5.0 (Mac...|   120|\n",
      "+--------+---------+---------+------+-------------+----------+-------+-----+-----------------+------+--------+-------------+---------+--------------------+------+-------------+--------------------+------+\n",
      "\n"
     ]
    }
   ],
   "source": [
    "mini_df_clean.where(mini_df_clean.length == 0.78322).show()"
   ]
  },
  {
   "cell_type": "markdown",
   "metadata": {},
   "source": [
    "# Exploratory Data Analysis\n",
    "When you're working with the full dataset, perform EDA by loading a small subset of the data and doing basic manipulations within Spark. In this workspace, you are already provided a small subset of data you can explore.\n",
    "\n",
    "### Define Churn\n",
    "\n",
    "Once you've done some preliminary analysis, create a column `Churn` to use as the label for your model. I suggest using the `Cancellation Confirmation` events to define your churn, which happen for both paid and free users. As a bonus task, you can also look into the `Downgrade` events.\n",
    "\n",
    "### Explore Data\n",
    "Once you've defined churn, perform some exploratory data analysis to observe the behavior for users who stayed vs users who churned. You can start by exploring aggregates on these two groups of users, observing how much of a specific action they experienced per a certain time unit or number of songs played."
   ]
  },
  {
   "cell_type": "markdown",
   "metadata": {},
   "source": [
    "Firstly we will look into the possible pages that a user can access."
   ]
  },
  {
   "cell_type": "code",
   "execution_count": 8,
   "metadata": {},
   "outputs": [
    {
     "name": "stdout",
     "output_type": "stream",
     "text": [
      "+--------------------+\n",
      "|                page|\n",
      "+--------------------+\n",
      "|              Cancel|\n",
      "|    Submit Downgrade|\n",
      "|         Thumbs Down|\n",
      "|                Home|\n",
      "|           Downgrade|\n",
      "|         Roll Advert|\n",
      "|              Logout|\n",
      "|       Save Settings|\n",
      "|Cancellation Conf...|\n",
      "|               About|\n",
      "|            Settings|\n",
      "|     Add to Playlist|\n",
      "|          Add Friend|\n",
      "|            NextSong|\n",
      "|           Thumbs Up|\n",
      "|                Help|\n",
      "|             Upgrade|\n",
      "|               Error|\n",
      "|      Submit Upgrade|\n",
      "+--------------------+\n",
      "\n"
     ]
    }
   ],
   "source": [
    "mini_df_clean.select(\"page\").dropDuplicates().show()"
   ]
  },
  {
   "cell_type": "markdown",
   "metadata": {},
   "source": [
    "Secondly we can check how user would interact with the system."
   ]
  },
  {
   "cell_type": "code",
   "execution_count": 9,
   "metadata": {
    "scrolled": true
   },
   "outputs": [
    {
     "name": "stdout",
     "output_type": "stream",
     "text": [
      "+------+---------+---------+------+-------------+---------+------+-----+--------------------+------+--------------------+-------------+---------+----+------+-------------+--------------------+------+\n",
      "|artist|     auth|firstName|gender|itemInSession| lastName|length|level|            location|method|                page| registration|sessionId|song|status|           ts|           userAgent|userId|\n",
      "+------+---------+---------+------+-------------+---------+------+-----+--------------------+------+--------------------+-------------+---------+----+------+-------------+--------------------+------+\n",
      "|  null|Cancelled|   Adriel|     M|          104|  Mendoza|  null| paid|  Kansas City, MO-KS|   GET|Cancellation Conf...|1535623466000|      514|null|   200|1538943990000|\"Mozilla/5.0 (Mac...|    18|\n",
      "|  null|Cancelled|    Diego|     M|           56|    Mckee|  null| paid|Phoenix-Mesa-Scot...|   GET|Cancellation Conf...|1537167593000|      540|null|   200|1539033046000|\"Mozilla/5.0 (iPh...|    32|\n",
      "|  null|Cancelled|    Mason|     M|           10|     Hart|  null| free|  Corpus Christi, TX|   GET|Cancellation Conf...|1533157139000|      174|null|   200|1539318918000|\"Mozilla/5.0 (Mac...|   125|\n",
      "|  null|Cancelled|Alexander|     M|          332|   Garcia|  null| paid|Indianapolis-Carm...|   GET|Cancellation Conf...|1536817381000|      508|null|   200|1539375441000|Mozilla/5.0 (Wind...|   105|\n",
      "|  null|Cancelled|    Kayla|     F|          273|  Johnson|  null| paid|Philadelphia-Camd...|   GET|Cancellation Conf...|1538333829000|      797|null|   200|1539465584000|Mozilla/5.0 (Wind...|    17|\n",
      "|  null|Cancelled|    Molly|     F|           29| Harrison|  null| free|Virginia Beach-No...|   GET|Cancellation Conf...|1534255113000|      843|null|   200|1539588854000|\"Mozilla/5.0 (Mac...|   143|\n",
      "|  null|Cancelled|     Alex|     M|          145|    Hogan|  null| paid|Denver-Aurora-Lak...|   GET|Cancellation Conf...|1535066380000|      842|null|   200|1539729037000|Mozilla/5.0 (Wind...|   101|\n",
      "|  null|Cancelled|    Davis|     M|           34|     Wang|  null| paid|           Flint, MI|   GET|Cancellation Conf...|1538289776000|      802|null|   200|1539736161000|\"Mozilla/5.0 (Win...|   129|\n",
      "|  null|Cancelled|  Nikolas|     M|          287|    Olsen|  null| paid|Oxnard-Thousand O...|   GET|Cancellation Conf...|1528403713000|      881|null|   200|1539759749000|Mozilla/5.0 (X11;...|   121|\n",
      "|  null|Cancelled|    Ethan|     M|          176|  Johnson|  null| paid|Lexington-Fayette...|   GET|Cancellation Conf...|1538080987000|      934|null|   200|1539761972000|\"Mozilla/5.0 (Win...|    51|\n",
      "|  null|Cancelled|Christian|     M|          100| Robinson|  null| paid|       Quincy, IL-MO|   GET|Cancellation Conf...|1534942082000|     1092|null|   200|1540050556000|\"Mozilla/5.0 (Win...|    87|\n",
      "|  null|Cancelled|    Molly|     F|           43|Patterson|  null| paid|   Memphis, TN-MS-AR|   GET|Cancellation Conf...|1535498705000|     1029|null|   200|1540062068000|Mozilla/5.0 (X11;...|   122|\n",
      "|  null|Cancelled|   Sophia|     F|           72|    Perry|  null| paid|Los Angeles-Long ...|   GET|Cancellation Conf...|1533885783000|     1072|null|   200|1540193374000|Mozilla/5.0 (Wind...|    12|\n",
      "|  null|Cancelled|    Erick|     M|           48|   Brooks|  null| paid|           Selma, AL|   GET|Cancellation Conf...|1537956751000|     1112|null|   200|1540223006000|\"Mozilla/5.0 (Win...|    58|\n",
      "|  null|Cancelled|   Rachel|     F|           11|   Bailey|  null| paid|Albany-Schenectad...|   GET|Cancellation Conf...|1536102943000|     1059|null|   200|1540402387000|Mozilla/5.0 (Wind...|    73|\n",
      "|  null|Cancelled|  Jeffery|     M|           46|  Wheeler|  null| paid|         Bozeman, MT|   GET|Cancellation Conf...|1533886191000|     1324|null|   200|1540875543000|\"Mozilla/5.0 (Win...|     3|\n",
      "|  null|Cancelled|   Sophia|     F|           18|      Key|  null| paid|Los Angeles-Long ...|   GET|Cancellation Conf...|1537679535000|     1383|null|   200|1541166424000|\"Mozilla/5.0 (Mac...|   106|\n",
      "|  null|Cancelled|    Piper|     F|            8|  Nielsen|  null| paid|New York-Newark-J...|   GET|Cancellation Conf...|1537699856000|     1583|null|   200|1541340091000|\"Mozilla/5.0 (Mac...|   103|\n",
      "|  null|Cancelled|   Teagan|     F|          306|  Roberts|  null| paid|New Philadelphia-...|   GET|Cancellation Conf...|1537634865000|     1519|null|   200|1541463632000|Mozilla/5.0 (Wind...|    28|\n",
      "|  null|Cancelled|    Alexi|     F|           42|   Warren|  null| paid|Spokane-Spokane V...|   GET|Cancellation Conf...|1532482662000|     1819|null|   200|1542051608000|Mozilla/5.0 (Wind...|    54|\n",
      "+------+---------+---------+------+-------------+---------+------+-----+--------------------+------+--------------------+-------------+---------+----+------+-------------+--------------------+------+\n",
      "only showing top 20 rows\n",
      "\n"
     ]
    }
   ],
   "source": [
    "mini_df_clean.where(mini_df_clean.page == \"Cancellation Confirmation\").show()"
   ]
  },
  {
   "cell_type": "code",
   "execution_count": 10,
   "metadata": {},
   "outputs": [],
   "source": [
    "flag_cancel_event = udf(lambda x: 1 if x == \"Cancellation Confirmation\" else 0, IntegerType())\n",
    "mini_df_clean = mini_df_clean.withColumn(\"cancelled\", flag_cancel_event(\"page\"))"
   ]
  },
  {
   "cell_type": "code",
   "execution_count": 11,
   "metadata": {},
   "outputs": [],
   "source": [
    "windowval = Window.partitionBy(\"userId\").orderBy(desc(\"ts\")).rangeBetween(Window.unboundedPreceding, 0)\n",
    "minidf_withchurn = mini_df_clean.withColumn(\"churn\", Fsum(\"cancelled\").over(windowval))"
   ]
  },
  {
   "cell_type": "code",
   "execution_count": 12,
   "metadata": {},
   "outputs": [
    {
     "data": {
      "text/plain": [
       "[Row(userId='125', ts=1539317144000, page='NextSong', level='free', churn=1, cancelled=0),\n",
       " Row(userId='125', ts=1539317481000, page='NextSong', level='free', churn=1, cancelled=0),\n",
       " Row(userId='125', ts=1539317711000, page='NextSong', level='free', churn=1, cancelled=0),\n",
       " Row(userId='125', ts=1539317914000, page='NextSong', level='free', churn=1, cancelled=0),\n",
       " Row(userId='125', ts=1539318124000, page='NextSong', level='free', churn=1, cancelled=0),\n",
       " Row(userId='125', ts=1539318515000, page='NextSong', level='free', churn=1, cancelled=0),\n",
       " Row(userId='125', ts=1539318728000, page='NextSong', level='free', churn=1, cancelled=0),\n",
       " Row(userId='125', ts=1539318906000, page='NextSong', level='free', churn=1, cancelled=0),\n",
       " Row(userId='125', ts=1539318917000, page='Roll Advert', level='free', churn=1, cancelled=0),\n",
       " Row(userId='125', ts=1539318918000, page='Cancel', level='free', churn=1, cancelled=0),\n",
       " Row(userId='125', ts=1539318918000, page='Cancellation Confirmation', level='free', churn=1, cancelled=1)]"
      ]
     },
     "execution_count": 12,
     "metadata": {},
     "output_type": "execute_result"
    }
   ],
   "source": [
    "minidf_withchurn.select([\"userId\", \"ts\", \"page\", \"level\", \"churn\", \"cancelled\"]).where(minidf_withchurn.userId == \"125\").sort(\"ts\").collect()"
   ]
  },
  {
   "cell_type": "code",
   "execution_count": 13,
   "metadata": {},
   "outputs": [
    {
     "name": "stdout",
     "output_type": "stream",
     "text": [
      "+--------------------+---------+---------+------+-------------+--------+---------+-----+------------------+------+--------------------+-------------+---------+--------------------+------+-------------+--------------------+------+---------+-----+\n",
      "|              artist|     auth|firstName|gender|itemInSession|lastName|   length|level|          location|method|                page| registration|sessionId|                song|status|           ts|           userAgent|userId|cancelled|churn|\n",
      "+--------------------+---------+---------+------+-------------+--------+---------+-----+------------------+------+--------------------+-------------+---------+--------------------+------+-------------+--------------------+------+---------+-----+\n",
      "| Christopher O'Riley|Logged In|    Mason|     M|            0|    Hart|337.91955| free|Corpus Christi, TX|   PUT|            NextSong|1533157139000|      174|    paranoid android|   200|1539317144000|\"Mozilla/5.0 (Mac...|   125|        0|    1|\n",
      "|The Notorious B.I.G.|Logged In|    Mason|     M|            1|    Hart|230.03383| free|Corpus Christi, TX|   PUT|            NextSong|1533157139000|      174|Hypnotize(Album V...|   200|1539317481000|\"Mozilla/5.0 (Mac...|   125|        0|    1|\n",
      "|           Betty Boo|Logged In|    Mason|     M|            2|    Hart| 203.2322| free|Corpus Christi, TX|   PUT|            NextSong|1533157139000|      174|       I'm On My Way|   200|1539317711000|\"Mozilla/5.0 (Mac...|   125|        0|    1|\n",
      "|          Nickelback|Logged In|    Mason|     M|            3|    Hart|210.83383| free|Corpus Christi, TX|   PUT|            NextSong|1533157139000|      174|Leader Of Men (Al...|   200|1539317914000|\"Mozilla/5.0 (Mac...|   125|        0|    1|\n",
      "| Ready For The World|Logged In|    Mason|     M|            4|    Hart|391.26159| free|Corpus Christi, TX|   PUT|            NextSong|1533157139000|      174|       Love You Down|   200|1539318124000|\"Mozilla/5.0 (Mac...|   125|        0|    1|\n",
      "|   We Are The Fallen|Logged In|    Mason|     M|            5|    Hart|213.60281| free|Corpus Christi, TX|   PUT|            NextSong|1533157139000|      174|Don't Leave Me Be...|   200|1539318515000|\"Mozilla/5.0 (Mac...|   125|        0|    1|\n",
      "|      Robert Johnson|Logged In|    Mason|     M|            6|    Hart|178.41587| free|Corpus Christi, TX|   PUT|            NextSong|1533157139000|      174|     They're Red Hot|   200|1539318728000|\"Mozilla/5.0 (Mac...|   125|        0|    1|\n",
      "|              Bonobo|Logged In|    Mason|     M|            7|    Hart|323.81342| free|Corpus Christi, TX|   PUT|            NextSong|1533157139000|      174|                Kota|   200|1539318906000|\"Mozilla/5.0 (Mac...|   125|        0|    1|\n",
      "|                null|Logged In|    Mason|     M|            8|    Hart|     null| free|Corpus Christi, TX|   GET|         Roll Advert|1533157139000|      174|                null|   200|1539318917000|\"Mozilla/5.0 (Mac...|   125|        0|    1|\n",
      "|                null|Logged In|    Mason|     M|            9|    Hart|     null| free|Corpus Christi, TX|   PUT|              Cancel|1533157139000|      174|                null|   307|1539318918000|\"Mozilla/5.0 (Mac...|   125|        0|    1|\n",
      "|                null|Cancelled|    Mason|     M|           10|    Hart|     null| free|Corpus Christi, TX|   GET|Cancellation Conf...|1533157139000|      174|                null|   200|1539318918000|\"Mozilla/5.0 (Mac...|   125|        1|    1|\n",
      "+--------------------+---------+---------+------+-------------+--------+---------+-----+------------------+------+--------------------+-------------+---------+--------------------+------+-------------+--------------------+------+---------+-----+\n",
      "\n"
     ]
    }
   ],
   "source": [
    "minidf_withchurn.where(minidf_withchurn.userId == \"125\").sort(\"ts\").show()"
   ]
  },
  {
   "cell_type": "code",
   "execution_count": 14,
   "metadata": {},
   "outputs": [
    {
     "name": "stdout",
     "output_type": "stream",
     "text": [
      "+------+\n",
      "|userId|\n",
      "+------+\n",
      "|   125|\n",
      "|    51|\n",
      "|    54|\n",
      "|100014|\n",
      "|   101|\n",
      "|    29|\n",
      "|100021|\n",
      "|    87|\n",
      "|    73|\n",
      "|     3|\n",
      "|    28|\n",
      "|100022|\n",
      "|100025|\n",
      "|300007|\n",
      "|100006|\n",
      "|    18|\n",
      "|    70|\n",
      "|100005|\n",
      "|    17|\n",
      "|100007|\n",
      "+------+\n",
      "only showing top 20 rows\n",
      "\n"
     ]
    },
    {
     "data": {
      "text/plain": [
       "52"
      ]
     },
     "execution_count": 14,
     "metadata": {},
     "output_type": "execute_result"
    }
   ],
   "source": [
    "churned_users = minidf_withchurn.where(minidf_withchurn.churn == 1).select(\"userId\").dropDuplicates()\n",
    "churned_users.show()\n",
    "churned_users.count()"
   ]
  },
  {
   "cell_type": "code",
   "execution_count": 15,
   "metadata": {},
   "outputs": [
    {
     "name": "stdout",
     "output_type": "stream",
     "text": [
      "+------+\n",
      "|userId|\n",
      "+------+\n",
      "|100010|\n",
      "|200002|\n",
      "|   125|\n",
      "|    51|\n",
      "|   124|\n",
      "|     7|\n",
      "|    54|\n",
      "|    15|\n",
      "|   155|\n",
      "|   132|\n",
      "|   154|\n",
      "|100014|\n",
      "|   101|\n",
      "|    11|\n",
      "|   138|\n",
      "|300017|\n",
      "|    29|\n",
      "|    69|\n",
      "|100021|\n",
      "|    42|\n",
      "+------+\n",
      "only showing top 20 rows\n",
      "\n"
     ]
    },
    {
     "data": {
      "text/plain": [
       "225"
      ]
     },
     "execution_count": 15,
     "metadata": {},
     "output_type": "execute_result"
    }
   ],
   "source": [
    "unchurned_users = minidf_withchurn.where(minidf_withchurn.churn == 0).select(\"userId\").dropDuplicates()\n",
    "unchurned_users.show()\n",
    "unchurned_users.count()"
   ]
  },
  {
   "cell_type": "markdown",
   "metadata": {},
   "source": [
    "We can check whether the churned users access the page differently comparing to nor churned users by checking average page access frequency."
   ]
  },
  {
   "cell_type": "code",
   "execution_count": 16,
   "metadata": {},
   "outputs": [],
   "source": [
    "churned_df = minidf_withchurn.where(minidf_withchurn.churn == 1)\n",
    "churned_count = churned_df.count()\n",
    "churned_pagecounts = churned_df.select(\"page\").groupby([\"page\"]).count()\n",
    "churned_pagecounts = churned_pagecounts.withColumn(\"PageFreq\", churned_pagecounts[\"count\"] / churned_count).sort(\"page\")\n",
    "\n",
    "unchurned_df = minidf_withchurn.where(minidf_withchurn.churn != 1)\n",
    "unchurned_count = unchurned_df.count()\n",
    "unchurned_pagecounts = unchurned_df.select(\"page\").groupby([\"page\"]).count()\n",
    "unchurned_pagecounts = unchurned_pagecounts.withColumn(\"ucPageFreq\", unchurned_pagecounts[\"count\"] / unchurned_count).sort(\"page\")"
   ]
  },
  {
   "cell_type": "code",
   "execution_count": 17,
   "metadata": {},
   "outputs": [
    {
     "name": "stdout",
     "output_type": "stream",
     "text": [
      "+--------------------+-----+--------------------+\n",
      "|                page|count|            PageFreq|\n",
      "+--------------------+-----+--------------------+\n",
      "|               About|   56|0.001248216833095...|\n",
      "|          Add Friend|  636|0.014176176890156919|\n",
      "|     Add to Playlist| 1038|0.023136590584878745|\n",
      "|              Cancel|   52|0.001159058487874...|\n",
      "|Cancellation Conf...|   52|0.001159058487874...|\n",
      "|           Downgrade|  337|0.007511590584878745|\n",
      "|               Error|   32|7.132667617689016E-4|\n",
      "|                Help|  239|0.005327211126961484|\n",
      "|                Home| 1672|0.037268188302425106|\n",
      "|              Logout|  553| 0.01232614122681883|\n",
      "|            NextSong|36394|  0.8112072039942939|\n",
      "|         Roll Advert|  967|0.021554029957203995|\n",
      "|       Save Settings|   58|0.001292796005706134|\n",
      "|            Settings|  270|0.006018188302425107|\n",
      "|    Submit Downgrade|    9|2.006062767475035...|\n",
      "|      Submit Upgrade|   32|7.132667617689016E-4|\n",
      "|         Thumbs Down|  496|0.011055634807417974|\n",
      "|           Thumbs Up| 1859| 0.04143634094151213|\n",
      "|             Upgrade|  112|0.002496433666191...|\n",
      "+--------------------+-----+--------------------+\n",
      "\n"
     ]
    }
   ],
   "source": [
    "churned_pagecounts.show()"
   ]
  },
  {
   "cell_type": "markdown",
   "metadata": {},
   "source": [
    "As the frequency of accessing NextSong is a lot higher for users, when drawing the barplot, we exclude this row from the drawing."
   ]
  },
  {
   "cell_type": "code",
   "execution_count": 18,
   "metadata": {},
   "outputs": [
    {
     "data": {
      "text/plain": [
       "<matplotlib.axes._subplots.AxesSubplot at 0x7fcdc2bd1470>"
      ]
     },
     "execution_count": 18,
     "metadata": {},
     "output_type": "execute_result"
    },
    {
     "data": {
      "image/png": "[encoded data removed]",
      "text/plain": [
       "<matplotlib.figure.Figure at 0x7fcdfa0a1a58>"
      ]
     },
     "metadata": {
      "needs_background": "light"
     },
     "output_type": "display_data"
    }
   ],
   "source": [
    "vizdf = churned_pagecounts.join(unchurned_pagecounts, \"page\", \"outer\").drop(\"count\").fillna(0) \\\n",
    "    .where(churned_pagecounts.page != \"NextSong\").toPandas()\n",
    "vizdf.plot.bar(\"page\")"
   ]
  },
  {
   "cell_type": "markdown",
   "metadata": {},
   "source": [
    "This figure shows that the churned users is likely to roll advert a lot more than unchurned users. Also, the number of thumb up from unchurned user is higher."
   ]
  },
  {
   "cell_type": "markdown",
   "metadata": {},
   "source": [
    "# Feature Engineering\n",
    "Once you've familiarized yourself with the data, build out the features you find promising to train your model on. To work with the full dataset, you can follow the following steps.\n",
    "- Write a script to extract the necessary features from the smaller subset of data\n",
    "- Ensure that your script is scalable, using the best practices discussed in Lesson 3\n",
    "- Try your script on the full data set, debugging your script if necessary\n",
    "\n",
    "If you are working in the classroom workspace, you can just extract features based on the small subset of data contained here. Be sure to transfer over this work to the larger dataset when you work on your Spark cluster."
   ]
  },
  {
   "cell_type": "markdown",
   "metadata": {},
   "source": [
    "In order to predict how would the user perform, I would extract the following features:\n",
    "- Average number of songs listened between user rolls advert.\n",
    "- Average time user skipped listening.\n",
    "- Number of different songs a user has listened to.\n",
    "- Frequency of access to each pages.\n",
    "- Number of different artists that the user listened to."
   ]
  },
  {
   "cell_type": "markdown",
   "metadata": {},
   "source": [
    "Average number of songs listened between user rolls advert."
   ]
  },
  {
   "cell_type": "code",
   "execution_count": 30,
   "metadata": {},
   "outputs": [
    {
     "name": "stdout",
     "output_type": "stream",
     "text": [
      "+------+------------------+\n",
      "|userId|  avgSongBetweenAd|\n",
      "+------+------------------+\n",
      "|100010|               5.5|\n",
      "|200002|            48.375|\n",
      "|   125|               8.0|\n",
      "|   124|             815.8|\n",
      "|    51|            2111.0|\n",
      "|     7| 8.823529411764707|\n",
      "|    15|             957.0|\n",
      "|    54|  60.4468085106383|\n",
      "|   155| 91.11111111111111|\n",
      "|100014| 85.66666666666667|\n",
      "|   132| 642.6666666666666|\n",
      "|   154|               8.4|\n",
      "|   101|199.66666666666666|\n",
      "|    11| 16.58974358974359|\n",
      "|   138|             115.0|\n",
      "|300017| 302.6666666666667|\n",
      "|100021| 7.931034482758621|\n",
      "|    29|131.65217391304347|\n",
      "|    69|            281.25|\n",
      "|   112| 9.772727272727273|\n",
      "+------+------------------+\n",
      "only showing top 20 rows\n",
      "\n"
     ]
    }
   ],
   "source": [
    "function = udf(lambda isadvert : int(isadvert == \"Roll Advert\"), IntegerType())\n",
    "\n",
    "user_window = Window.partitionBy(\"userID\").orderBy(desc(\"ts\")).rangeBetween(Window.unboundedPreceding, 0)\n",
    "\n",
    "cusum = minidf_withchurn.where((minidf_withchurn.page == \"NextSong\") | (minidf_withchurn.page == \"Roll Advert\")) \\\n",
    "    .select(\"userID\", \"page\", \"ts\") \\\n",
    "    .withColumn(\"rolladvert\", function(col(\"page\"))) \\\n",
    "    .withColumn(\"period\", Fsum(\"rolladvert\").over(user_window))\n",
    "\n",
    "songbetweenad = cusum.where((cusum.page == \"NextSong\")) \\\n",
    "    .groupBy(\"userId\", \"period\").agg({\"period\": \"count\"}) \\\n",
    "    .groupBy(\"userId\").agg({\"count(period)\": \"avg\"}).withColumnRenamed(\"avg(count(period))\", \"avgSongBetweenAd\")\n",
    "\n",
    "songbetweenad.show()"
   ]
  },
  {
   "cell_type": "markdown",
   "metadata": {},
   "source": [
    "Average time user skipped to listen"
   ]
  },
  {
   "cell_type": "code",
   "execution_count": 31,
   "metadata": {},
   "outputs": [
    {
     "name": "stdout",
     "output_type": "stream",
     "text": [
      "+------+--------+---------+-------------+---------+------------------+\n",
      "|userId|    page|   length|           ts|sessionId|      timelistened|\n",
      "+------+--------+---------+-------------+---------+------------------+\n",
      "|   101|NextSong|180.40118|1539065912000|      635|         180.40118|\n",
      "|   101|NextSong|228.28363|1539066092000|      635|408.68480999999997|\n",
      "|   101|NextSong|209.29261|1539066320000|      635| 617.9774199999999|\n",
      "|   101|NextSong|226.19383|1539066529000|      635| 844.1712499999999|\n",
      "|   101|NextSong|290.84689|1539066755000|      635|        1135.01814|\n",
      "|   101|NextSong|189.93587|1539067045000|      635|        1324.95401|\n",
      "|   101|NextSong|256.86159|1539067234000|      635|         1581.8156|\n",
      "|   101|NextSong|197.66812|1539067490000|      635|        1779.48372|\n",
      "|   101|NextSong| 278.7522|1539067687000|      635|        2058.23592|\n",
      "|   101|NextSong|231.23546|1539067965000|      635|        2289.47138|\n",
      "|   101|NextSong|304.84853|1539068196000|      635|        2594.31991|\n",
      "|   101|NextSong|287.16363|1539068500000|      635|        2881.48354|\n",
      "|   101|NextSong|268.85179|1539068787000|      635|3150.3353300000003|\n",
      "|   101|NextSong| 239.3073|1539069055000|      635|3389.6426300000003|\n",
      "|   101|NextSong|162.97751|1539069294000|      635|3552.6201400000004|\n",
      "|   101|NextSong|122.04363|1539069456000|      635|3674.6637700000006|\n",
      "|   101|NextSong|228.93669|1539069578000|      635|3903.6004600000006|\n",
      "|   101|NextSong|374.12526|1539069806000|      635|        4277.72572|\n",
      "|   101|NextSong|655.77751|1539070180000|      635|        4933.50323|\n",
      "|   101|NextSong|210.15465|1539070835000|      635| 5143.657880000001|\n",
      "+------+--------+---------+-------------+---------+------------------+\n",
      "only showing top 20 rows\n",
      "\n",
      "+------+---------+--------+\n",
      "|userId|sessionId|tspassed|\n",
      "+------+---------+--------+\n",
      "|    92|      358| 15439.0|\n",
      "|    42|      433|  4366.0|\n",
      "|   101|      635|197081.0|\n",
      "|   120|      627| 57079.0|\n",
      "|   140|      798|   449.0|\n",
      "|   122|      691|  1045.0|\n",
      "|    29|     1030|  2722.0|\n",
      "|     8|     1200|  2357.0|\n",
      "|    96|     1653| 33528.0|\n",
      "|   153|     1794| 14957.0|\n",
      "|    97|     2019| 17362.0|\n",
      "|    35|     2270|  2347.0|\n",
      "|   110|     1776|  4614.0|\n",
      "|300011|       60|  6202.0|\n",
      "|   137|      136|  1162.0|\n",
      "|    40|      484| 15182.0|\n",
      "|    35|      544|  3442.0|\n",
      "|    24|      620|   955.0|\n",
      "|    47|       46|   423.0|\n",
      "|    85|     1098| 18391.0|\n",
      "+------+---------+--------+\n",
      "only showing top 20 rows\n",
      "\n",
      "+------+---------+------------------+\n",
      "|userId|sessionId|      timelistened|\n",
      "+------+---------+------------------+\n",
      "|   101|      635|176615.41127000016|\n",
      "|   110|     1776|        4737.95102|\n",
      "|   120|      627| 57491.58928999997|\n",
      "|   122|      691|1185.9303400000001|\n",
      "|   140|      798|         735.65904|\n",
      "|   153|     1794|15093.131029999997|\n",
      "|    29|     1030|        2963.92553|\n",
      "|300011|       60| 6203.886519999999|\n",
      "|    35|     2270|          2584.002|\n",
      "|    42|      433| 4628.237660000001|\n",
      "|     8|     1200|2572.7166500000003|\n",
      "|    92|      358|15678.380659999999|\n",
      "|    96|     1653|       33848.12904|\n",
      "|    97|     2019|       17752.88909|\n",
      "|100013|       13| 9819.985139999999|\n",
      "|   123|     1901| 4476.594539999999|\n",
      "|   137|      136|1458.2829900000002|\n",
      "|   149|     1022|13105.843250000002|\n",
      "|    24|      620|1162.8908000000001|\n",
      "|    35|      544|3568.4512299999997|\n",
      "+------+---------+------------------+\n",
      "only showing top 20 rows\n",
      "\n",
      "+------+---------+--------+------------------+\n",
      "|userId|sessionId|tspassed|      timelistened|\n",
      "+------+---------+--------+------------------+\n",
      "|   101|      635|197081.0|176615.41127000016|\n",
      "|   110|     1776|  4614.0|        4737.95102|\n",
      "|   120|      627| 57079.0| 57491.58928999997|\n",
      "|   122|      691|  1045.0|1185.9303400000001|\n",
      "|   140|      798|   449.0|         735.65904|\n",
      "|   153|     1794| 14957.0|15093.131029999997|\n",
      "|    29|     1030|  2722.0|        2963.92553|\n",
      "|300011|       60|  6202.0| 6203.886519999999|\n",
      "|    35|     2270|  2347.0|          2584.002|\n",
      "|    42|      433|  4366.0| 4628.237660000001|\n",
      "|     8|     1200|  2357.0|2572.7166500000003|\n",
      "|    92|      358| 15439.0|15678.380659999999|\n",
      "|    96|     1653| 33528.0|       33848.12904|\n",
      "|    97|     2019| 17362.0|       17752.88909|\n",
      "|100013|       13|  9495.0| 9819.985139999999|\n",
      "|   123|     1901|  4362.0| 4476.594539999999|\n",
      "|   137|      136|  1162.0|1458.2829900000002|\n",
      "|   149|     1022| 13107.0|13105.843250000002|\n",
      "|    24|      620|   955.0|1162.8908000000001|\n",
      "|    35|      544|  3442.0|3568.4512299999997|\n",
      "+------+---------+--------+------------------+\n",
      "only showing top 20 rows\n",
      "\n",
      "+------+---------+--------+------------------+-------------------+\n",
      "|userId|sessionId|tspassed|      timelistened|         skipedtime|\n",
      "+------+---------+--------+------------------+-------------------+\n",
      "|   101|      635|197081.0|176615.41127000016|-20465.588729999843|\n",
      "|   110|     1776|  4614.0|        4737.95102| 123.95102000000043|\n",
      "|   120|      627| 57079.0| 57491.58928999997| 412.58928999996715|\n",
      "|   122|      691|  1045.0|1185.9303400000001| 140.93034000000011|\n",
      "|   140|      798|   449.0|         735.65904|          286.65904|\n",
      "|   153|     1794| 14957.0|15093.131029999997| 136.13102999999683|\n",
      "|    29|     1030|  2722.0|        2963.92553| 241.92552999999998|\n",
      "|300011|       60|  6202.0| 6203.886519999999| 1.8865199999991091|\n",
      "|    35|     2270|  2347.0|          2584.002| 237.00199999999995|\n",
      "|    42|      433|  4366.0| 4628.237660000001|  262.2376600000007|\n",
      "|     8|     1200|  2357.0|2572.7166500000003|  215.7166500000003|\n",
      "|    92|      358| 15439.0|15678.380659999999|  239.3806599999989|\n",
      "|    96|     1653| 33528.0|       33848.12904|  320.1290399999998|\n",
      "|    97|     2019| 17362.0|       17752.88909|  390.8890900000006|\n",
      "|100013|       13|  9495.0| 9819.985139999999| 324.98513999999886|\n",
      "|   123|     1901|  4362.0| 4476.594539999999| 114.59453999999914|\n",
      "|   137|      136|  1162.0|1458.2829900000002| 296.28299000000015|\n",
      "|   149|     1022| 13107.0|13105.843250000002|-1.1567499999982829|\n",
      "|    24|      620|   955.0|1162.8908000000001| 207.89080000000013|\n",
      "|    35|      544|  3442.0|3568.4512299999997| 126.45122999999967|\n",
      "+------+---------+--------+------------------+-------------------+\n",
      "only showing top 20 rows\n",
      "\n",
      "+------+-------------------+\n",
      "|userId|        avgSkipTime|\n",
      "+------+-------------------+\n",
      "|100010|  309.8424785714282|\n",
      "|200002|  -217.187343333339|\n",
      "|   125|  327.1131000000005|\n",
      "|    51|  84.48427999999657|\n",
      "|   124|  267.2175996428528|\n",
      "|     7| 208.86958571428548|\n",
      "|    54| -38.28801314285264|\n",
      "|    15|   173.828986428577|\n",
      "|   155| 297.38198333333685|\n",
      "|100014| 243.07868000000056|\n",
      "|   132| 310.99399000000574|\n",
      "|   154|  275.3413033333342|\n",
      "|   101| -3917.498532999985|\n",
      "|    11| 315.12269000000083|\n",
      "|300017|  280.3111509836064|\n",
      "|   138| 316.79218400000536|\n",
      "|    29|  280.8694873529402|\n",
      "|    69| 266.44729333333953|\n",
      "|100021|-1249.7648719999972|\n",
      "|    42| -970.0739968292694|\n",
      "+------+-------------------+\n",
      "only showing top 20 rows\n",
      "\n"
     ]
    }
   ],
   "source": [
    "user_session_songs = minidf_withchurn.where(minidf_withchurn.page == \"NextSong\").groupby(\"userId\", \"sessionId\").count()\n",
    "diff_window = Window.partitionBy(\"userId\", \"sessionId\").orderBy(\"ts\").rangeBetween(Window.unboundedPreceding, 0)\n",
    "\n",
    "timesum = minidf_withchurn.where(minidf_withchurn.page == \"NextSong\") \\\n",
    "    .select(\"userId\", \"page\", \"length\", \"ts\", \"sessionId\") \\\n",
    "    .withColumn(\"timelistened\", Fsum(\"length\").over(diff_window))\n",
    "timesum.show()\n",
    "\n",
    "sessiontsdiff = timesum.groupby(\"userId\", \"sessionId\") \\\n",
    "    .agg((Fmax(timesum.ts) - Fmin(timesum.ts)) / 1000) \\\n",
    "    .withColumnRenamed(\"((max(ts) - min(ts)) / 1000)\", \"tspassed\")\n",
    "sessiontsdiff.show()\n",
    "\n",
    "sessionltimediff = timesum.groupBy(\"userId\", \"sessionId\") \\\n",
    "    .agg(Fmax(timesum.timelistened)) \\\n",
    "    .withColumnRenamed(\"max(timelistened)\", \"timelistened\")\n",
    "sessionltimediff.show()\n",
    "\n",
    "timeinfodf = sessiontsdiff.join(sessionltimediff, [\"userId\", \"sessionId\"])\n",
    "timeinfodf.show()\n",
    "\n",
    "skippedtimedf = timeinfodf.withColumn(\"skipedtime\", timeinfodf.timelistened - timeinfodf.tspassed)\n",
    "skippedtimedf.show()\n",
    "\n",
    "skippedtimeavg = skippedtimedf.groupBy(\"userId\").agg({\"skipedtime\": \"avg\"}).withColumnRenamed(\"avg(skipedtime)\", \"avgSkipTime\")\n",
    "skippedtimeavg.show()"
   ]
  },
  {
   "cell_type": "markdown",
   "metadata": {},
   "source": [
    "Number of different songs a user has listened to."
   ]
  },
  {
   "cell_type": "code",
   "execution_count": 32,
   "metadata": {},
   "outputs": [
    {
     "name": "stdout",
     "output_type": "stream",
     "text": [
      "+------+---------------+\n",
      "|userId|UniqueSongCount|\n",
      "+------+---------------+\n",
      "|100010|            269|\n",
      "|200002|            378|\n",
      "|   125|              8|\n",
      "|    51|           1854|\n",
      "|   124|           3339|\n",
      "|     7|            148|\n",
      "|    15|           1707|\n",
      "|    54|           2414|\n",
      "|   155|            759|\n",
      "|   132|           1718|\n",
      "|100014|            248|\n",
      "|   154|             83|\n",
      "|   101|           1608|\n",
      "|    11|            616|\n",
      "|   138|           1791|\n",
      "|300017|           3013|\n",
      "|    29|           2562|\n",
      "|    69|           1036|\n",
      "|100021|            226|\n",
      "|   112|            211|\n",
      "+------+---------------+\n",
      "only showing top 20 rows\n",
      "\n",
      "+------+--------------+\n",
      "|userId|TotalSongCount|\n",
      "+------+--------------+\n",
      "|100010|           275|\n",
      "|200002|           387|\n",
      "|   125|             8|\n",
      "|    51|          2111|\n",
      "|   124|          4079|\n",
      "|     7|           150|\n",
      "|    54|          2841|\n",
      "|    15|          1914|\n",
      "|   155|           820|\n",
      "|   132|          1928|\n",
      "|   154|            84|\n",
      "|100014|           257|\n",
      "|   101|          1797|\n",
      "|    11|           647|\n",
      "|   138|          2070|\n",
      "|300017|          3632|\n",
      "|    29|          3028|\n",
      "|    69|          1125|\n",
      "|100021|           230|\n",
      "|    42|          3573|\n",
      "+------+--------------+\n",
      "only showing top 20 rows\n",
      "\n",
      "+------+-----------------+\n",
      "|userId|UniqueArtistCount|\n",
      "+------+-----------------+\n",
      "|100010|              252|\n",
      "|200002|              339|\n",
      "|   125|                8|\n",
      "|    51|             1385|\n",
      "|   124|             2232|\n",
      "|     7|              142|\n",
      "|    15|             1302|\n",
      "|    54|             1744|\n",
      "|   155|              643|\n",
      "|   132|             1299|\n",
      "|   154|               78|\n",
      "|100014|              233|\n",
      "|   101|             1241|\n",
      "|    11|              534|\n",
      "|   138|             1332|\n",
      "|300017|             2070|\n",
      "|    29|             1804|\n",
      "|    69|              865|\n",
      "|100021|              207|\n",
      "|    42|             2073|\n",
      "+------+-----------------+\n",
      "only showing top 20 rows\n",
      "\n"
     ]
    }
   ],
   "source": [
    "useruniqsongcount = minidf_withchurn.where(minidf_withchurn.song != \"null\") \\\n",
    "    .select(\"userId\", \"song\").dropDuplicates() \\\n",
    "    .groupBy(\"userId\").count().withColumnRenamed(\"count\", \"UniqueSongCount\")\n",
    "useruniqsongcount.show()\n",
    "\n",
    "usersongcount = minidf_withchurn.where(minidf_withchurn.song != \"null\") \\\n",
    "    .select(\"userId\", \"song\").groupBy(\"userId\").count().withColumnRenamed(\"count\", \"TotalSongCount\")\n",
    "usersongcount.show()\n",
    "\n",
    "useruniqartistcount = minidf_withchurn.where(minidf_withchurn.artist != \"null\") \\\n",
    "    .select(\"userId\", \"artist\").dropDuplicates() \\\n",
    "    .groupBy(\"userId\").count().withColumnRenamed(\"count\", \"UniqueArtistCount\")\n",
    "useruniqartistcount.show()"
   ]
  },
  {
   "cell_type": "markdown",
   "metadata": {},
   "source": [
    "Frequency of access to each pages."
   ]
  },
  {
   "cell_type": "code",
   "execution_count": 35,
   "metadata": {
    "scrolled": true
   },
   "outputs": [
    {
     "name": "stdout",
     "output_type": "stream",
     "text": [
      "+------+----------+--------------------+---------------+---------+--------------+---------------+-----------+-----------------+----------+-------------+------------------+--------------+-------------+-------------+---------+------------+----------+------------------+\n",
      "|userId|totalcount|SubmitDowngradecount|ThumbsDowncount|Homecount|Downgradecount|RollAdvertcount|Logoutcount|SaveSettingscount|Aboutcount|Settingscount|AddtoPlaylistcount|AddFriendcount|NextSongcount|ThumbsUpcount|Helpcount|Upgradecount|Errorcount|SubmitUpgradecount|\n",
      "+------+----------+--------------------+---------------+---------+--------------+---------------+-----------+-----------------+----------+-------------+------------------+--------------+-------------+-------------+---------+------------+----------+------------------+\n",
      "|100010|       381|                   0|              5|       11|             0|             52|          5|                0|         1|            0|                 7|             4|          275|           17|        2|           2|         0|                 0|\n",
      "|200002|       474|                   0|              6|       20|             5|              7|          5|                0|         3|            3|                 8|             4|          387|           21|        2|           2|         0|                 1|\n",
      "|   125|         9|                   0|              0|        0|             0|              1|          0|                0|         0|            0|                 0|             0|            8|            0|        0|           0|         0|                 0|\n",
      "|    51|      2462|                   0|             21|       75|            23|              0|         24|                1|         2|           12|                52|            28|         2111|          100|       12|           0|         1|                 0|\n",
      "|   124|      4825|                   0|             41|      176|            41|              4|         59|                6|         7|           20|               118|            74|         4079|          171|       23|           0|         6|                 0|\n",
      "|     7|       201|                   0|              1|       10|             0|             16|          3|                1|         0|            3|                 5|             1|          150|            7|        1|           2|         1|                 0|\n",
      "|    54|      3435|                   1|             29|      129|            39|             47|         36|                3|         5|           17|                72|            33|         2841|          163|       17|           1|         1|                 1|\n",
      "|    15|      2278|                   0|             14|       93|            28|              1|         27|                2|         2|           16|                59|            31|         1914|           81|        8|           0|         2|                 0|\n",
      "|   155|      1002|                   0|              3|       30|            12|              8|         14|                0|         2|            5|                24|            11|          820|           58|        9|           2|         3|                 1|\n",
      "|   132|      2304|                   0|             17|       83|            19|              2|         34|                4|         4|           17|                38|            41|         1928|           96|       16|           1|         3|                 1|\n",
      "|   154|       118|                   0|              0|        6|             0|             10|          2|                0|         0|            0|                 1|             3|           84|           11|        1|           0|         0|                 0|\n",
      "|100014|       308|                   0|              3|        7|             3|              2|          3|                0|         0|            1|                 7|             6|          257|           17|        2|           0|         0|                 0|\n",
      "|   101|      2147|                   0|             16|       74|            22|              8|         24|                2|         2|            9|                61|            29|         1797|           86|       12|           1|         3|                 1|\n",
      "|    11|       848|                   1|              9|       37|             5|             39|         14|                2|         7|            6|                20|             6|          647|           40|        3|           9|         1|                 2|\n",
      "|   138|      2469|                   0|             24|       71|            21|             17|         18|                4|         8|           17|                67|            41|         2070|           95|       13|           1|         1|                 1|\n",
      "|300017|      4428|                   0|             28|      151|            25|             11|         41|                3|         3|           23|               113|            63|         3632|          303|       27|           0|         5|                 0|\n",
      "|    29|      3601|                   0|             22|      121|            18|             22|         41|                4|         2|           19|                89|            47|         3028|          154|       28|           5|         0|                 1|\n",
      "|    69|      1342|                   0|              9|       49|             9|              3|         10|                1|         3|            3|                33|            12|         1125|           72|        7|           1|         4|                 1|\n",
      "|100021|       317|                   0|              5|       15|             0|             30|          7|                0|         1|            0|                 7|             7|          230|           11|        0|           2|         2|                 0|\n",
      "|    42|      4257|                   0|             25|      176|            37|             10|         44|                7|         6|           28|               104|            52|         3573|          166|       20|           1|         7|                 1|\n",
      "+------+----------+--------------------+---------------+---------+--------------+---------------+-----------+-----------------+----------+-------------+------------------+--------------+-------------+-------------+---------+------------+----------+------------------+\n",
      "only showing top 20 rows\n",
      "\n"
     ]
    }
   ],
   "source": [
    "# Firstly get each page counts for every user.\n",
    "allpages = [(row[\"page\"]) for row in minidf_withchurn.select(\"page\").dropDuplicates().collect()]\n",
    "\n",
    "# Remove pages representing churn\n",
    "allpages.remove(\"Cancel\")\n",
    "allpages.remove(\"Cancellation Confirmation\")\n",
    "\n",
    "dfwithpagecount = minidf_withchurn \\\n",
    "    .where((minidf_withchurn.page != \"Cancel\") & (minidf_withchurn.page != \"Cancellation Confirmation\")) \\\n",
    "    .groupby(\"userId\").count().withColumnRenamed(\"count\", \"totalcount\")\n",
    "\n",
    "for pagename in allpages:\n",
    "    columnname =  pagename.replace(\" \", \"\") + \"count\"\n",
    "    singlepagecount = minidf_withchurn.where(minidf_withchurn.page == pagename).groupby(\"userId\").count()\n",
    "    singlepagecount = singlepagecount.withColumnRenamed(\"count\", columnname)\n",
    "    dfwithpagecount = dfwithpagecount.join(singlepagecount, \"userId\", \"left\")\n",
    "\n",
    "dfwithpagecount = dfwithpagecount.fillna(0)\n",
    "dfwithpagecount.show()"
   ]
  },
  {
   "cell_type": "markdown",
   "metadata": {},
   "source": [
    "We also need the labels for supervised learning"
   ]
  },
  {
   "cell_type": "code",
   "execution_count": 34,
   "metadata": {},
   "outputs": [
    {
     "name": "stdout",
     "output_type": "stream",
     "text": [
      "+------+-----+\n",
      "|userId|churn|\n",
      "+------+-----+\n",
      "|100010|    0|\n",
      "|200002|    0|\n",
      "|   125|    1|\n",
      "|   124|    0|\n",
      "|    51|    1|\n",
      "|     7|    0|\n",
      "|    15|    0|\n",
      "|    54|    1|\n",
      "|   155|    0|\n",
      "|100014|    1|\n",
      "|   132|    0|\n",
      "|   154|    0|\n",
      "|   101|    1|\n",
      "|    11|    0|\n",
      "|   138|    0|\n",
      "|300017|    0|\n",
      "|100021|    1|\n",
      "|    29|    1|\n",
      "|    69|    0|\n",
      "|   112|    0|\n",
      "+------+-----+\n",
      "only showing top 20 rows\n",
      "\n"
     ]
    }
   ],
   "source": [
    "labels = minidf_withchurn.select(\"userId\", \"churn\").dropDuplicates()\n",
    "labels.show()"
   ]
  },
  {
   "cell_type": "markdown",
   "metadata": {},
   "source": [
    "Finally we combine all these features together and save it so that the the data doesn't need to be recomputed."
   ]
  },
  {
   "cell_type": "code",
   "execution_count": 40,
   "metadata": {},
   "outputs": [
    {
     "name": "stdout",
     "output_type": "stream",
     "text": [
      "+------+-----+------------------+-------------------+---------------+--------------+-----------------+----------+--------------------+---------------+---------+--------------+---------------+-----------+-----------------+----------+-------------+------------------+--------------+-------------+-------------+---------+------------+----------+------------------+\n",
      "|userId|churn|  avgSongBetweenAd|        avgSkipTime|UniqueSongCount|TotalSongCount|UniqueArtistCount|totalcount|SubmitDowngradecount|ThumbsDowncount|Homecount|Downgradecount|RollAdvertcount|Logoutcount|SaveSettingscount|Aboutcount|Settingscount|AddtoPlaylistcount|AddFriendcount|NextSongcount|ThumbsUpcount|Helpcount|Upgradecount|Errorcount|SubmitUpgradecount|\n",
      "+------+-----+------------------+-------------------+---------------+--------------+-----------------+----------+--------------------+---------------+---------+--------------+---------------+-----------+-----------------+----------+-------------+------------------+--------------+-------------+-------------+---------+------------+----------+------------------+\n",
      "|100010|    0|               5.5|  309.8424785714282|            269|           275|              252|       381|                   0|              5|       11|             0|             52|          5|                0|         1|            0|                 7|             4|          275|           17|        2|           2|         0|                 0|\n",
      "|200002|    0|            48.375|  -217.187343333339|            378|           387|              339|       474|                   0|              6|       20|             5|              7|          5|                0|         3|            3|                 8|             4|          387|           21|        2|           2|         0|                 1|\n",
      "|   125|    1|               8.0|  327.1131000000005|              8|             8|                8|         9|                   0|              0|        0|             0|              1|          0|                0|         0|            0|                 0|             0|            8|            0|        0|           0|         0|                 0|\n",
      "|   124|    0|             815.8|  267.2175996428528|           3339|          4079|             2232|      4825|                   0|             41|      176|            41|              4|         59|                6|         7|           20|               118|            74|         4079|          171|       23|           0|         6|                 0|\n",
      "|    51|    1|            2111.0|  84.48427999999657|           1854|          2111|             1385|      2462|                   0|             21|       75|            23|              0|         24|                1|         2|           12|                52|            28|         2111|          100|       12|           0|         1|                 0|\n",
      "|     7|    0| 8.823529411764707| 208.86958571428548|            148|           150|              142|       201|                   0|              1|       10|             0|             16|          3|                1|         0|            3|                 5|             1|          150|            7|        1|           2|         1|                 0|\n",
      "|    15|    0|             957.0|   173.828986428577|           1707|          1914|             1302|      2278|                   0|             14|       93|            28|              1|         27|                2|         2|           16|                59|            31|         1914|           81|        8|           0|         2|                 0|\n",
      "|    54|    1|  60.4468085106383| -38.28801314285264|           2414|          2841|             1744|      3435|                   1|             29|      129|            39|             47|         36|                3|         5|           17|                72|            33|         2841|          163|       17|           1|         1|                 1|\n",
      "|   155|    0| 91.11111111111111| 297.38198333333685|            759|           820|              643|      1002|                   0|              3|       30|            12|              8|         14|                0|         2|            5|                24|            11|          820|           58|        9|           2|         3|                 1|\n",
      "|100014|    1| 85.66666666666667| 243.07868000000056|            248|           257|              233|       308|                   0|              3|        7|             3|              2|          3|                0|         0|            1|                 7|             6|          257|           17|        2|           0|         0|                 0|\n",
      "|   132|    0| 642.6666666666666| 310.99399000000574|           1718|          1928|             1299|      2304|                   0|             17|       83|            19|              2|         34|                4|         4|           17|                38|            41|         1928|           96|       16|           1|         3|                 1|\n",
      "|   154|    0|               8.4|  275.3413033333342|             83|            84|               78|       118|                   0|              0|        6|             0|             10|          2|                0|         0|            0|                 1|             3|           84|           11|        1|           0|         0|                 0|\n",
      "|   101|    1|199.66666666666666| -3917.498532999985|           1608|          1797|             1241|      2147|                   0|             16|       74|            22|              8|         24|                2|         2|            9|                61|            29|         1797|           86|       12|           1|         3|                 1|\n",
      "|    11|    0| 16.58974358974359| 315.12269000000083|            616|           647|              534|       848|                   1|              9|       37|             5|             39|         14|                2|         7|            6|                20|             6|          647|           40|        3|           9|         1|                 2|\n",
      "|   138|    0|             115.0| 316.79218400000536|           1791|          2070|             1332|      2469|                   0|             24|       71|            21|             17|         18|                4|         8|           17|                67|            41|         2070|           95|       13|           1|         1|                 1|\n",
      "|300017|    0| 302.6666666666667|  280.3111509836064|           3013|          3632|             2070|      4428|                   0|             28|      151|            25|             11|         41|                3|         3|           23|               113|            63|         3632|          303|       27|           0|         5|                 0|\n",
      "|100021|    1| 7.931034482758621|-1249.7648719999972|            226|           230|              207|       317|                   0|              5|       15|             0|             30|          7|                0|         1|            0|                 7|             7|          230|           11|        0|           2|         2|                 0|\n",
      "|    29|    1|131.65217391304347|  280.8694873529402|           2562|          3028|             1804|      3601|                   0|             22|      121|            18|             22|         41|                4|         2|           19|                89|            47|         3028|          154|       28|           5|         0|                 1|\n",
      "|    69|    0|            281.25| 266.44729333333953|           1036|          1125|              865|      1342|                   0|              9|       49|             9|              3|         10|                1|         3|            3|                33|            12|         1125|           72|        7|           1|         4|                 1|\n",
      "|   112|    0| 9.772727272727273|  271.4162877777787|            211|           215|              195|       292|                   0|              3|       16|             0|             21|          3|                3|         1|            4|                 7|             7|          215|            9|        1|           2|         0|                 0|\n",
      "+------+-----+------------------+-------------------+---------------+--------------+-----------------+----------+--------------------+---------------+---------+--------------+---------------+-----------+-----------------+----------+-------------+------------------+--------------+-------------+-------------+---------+------------+----------+------------------+\n",
      "only showing top 20 rows\n",
      "\n"
     ]
    }
   ],
   "source": [
    "featuredf = labels.join(songbetweenad, \"userId\", \"left\") \\\n",
    "    .join(skippedtimeavg, \"userId\", \"left\") \\\n",
    "    .join(useruniqsongcount, \"userId\", \"left\") \\\n",
    "    .join(usersongcount, \"userId\", \"left\") \\\n",
    "    .join(useruniqartistcount, \"userId\", \"left\") \\\n",
    "    .join(dfwithpagecount, \"userId\", \"left\")\n",
    "\n",
    "featuredf.show()"
   ]
  },
  {
   "cell_type": "code",
   "execution_count": 39,
   "metadata": {},
   "outputs": [],
   "source": [
    "featuredf.write.csv(\"features.csv\", header=True)"
   ]
  },
  {
   "cell_type": "markdown",
   "metadata": {},
   "source": [
    "# Modeling\n",
    "Split the full dataset into train, test, and validation sets. Test out several of the machine learning methods you learned. Evaluate the accuracy of the various models, tuning parameters as necessary. Determine your winning model based on test accuracy and report results on the validation set. Since the churned users are a fairly small subset, I suggest using F1 score as the metric to optimize."
   ]
  },
  {
   "cell_type": "code",
   "execution_count": 3,
   "metadata": {
    "scrolled": false
   },
   "outputs": [
    {
     "name": "stdout",
     "output_type": "stream",
     "text": [
      "+------+-----+----------------+-----------+---------------+--------------+-----------------+----------+--------------------+---------------+---------+--------------+---------------+-----------+-----------------+----------+-------------+------------------+--------------+-------------+-------------+---------+------------+----------+------------------+--------------------+--------------------+------+\n",
      "|userId|churn|avgSongBetweenAd|avgSkipTime|UniqueSongCount|TotalSongCount|UniqueArtistCount|totalcount|SubmitDowngradecount|ThumbsDowncount|Homecount|Downgradecount|RollAdvertcount|Logoutcount|SaveSettingscount|Aboutcount|Settingscount|AddtoPlaylistcount|AddFriendcount|NextSongcount|ThumbsUpcount|Helpcount|Upgradecount|Errorcount|SubmitUpgradecount|         NumFeatures|   ScaledNumFeatures|weight|\n",
      "+------+-----+----------------+-----------+---------------+--------------+-----------------+----------+--------------------+---------------+---------+--------------+---------------+-----------+-----------------+----------+-------------+------------------+--------------+-------------+-------------+---------+------------+----------+------------------+--------------------+--------------------+------+\n",
      "|100004|  0.0|       11.214286|  14.819465|          881.0|         942.0|            733.0|    1245.0|                 2.0|           11.0|     66.0|          10.0|           86.0|       19.0|              2.0|       0.0|         11.0|              23.0|          19.0|        942.0|         35.0|      6.0|         8.0|       2.0|               3.0|[11.2142858505249...|[0.04119581719648...|   1.0|\n",
      "|   104|  0.0|       77.434784|  215.28697|         1571.0|        1781.0|           1214.0|    2132.0|                 0.0|           17.0|     82.0|          24.0|           23.0|       21.0|              2.0|       3.0|          9.0|              43.0|          23.0|       1781.0|         84.0|     15.0|         3.0|       1.0|               1.0|[77.4347839355468...|[0.28445763253920...|   1.0|\n",
      "|    60|  0.0|           411.0|  125.47228|         1477.0|        1644.0|           1137.0|    1950.0|                 0.0|            9.0|     66.0|          21.0|            3.0|       18.0|              0.0|       3.0|          6.0|              58.0|          27.0|       1644.0|         84.0|      7.0|         1.0|       2.0|               1.0|[411.0,125.472282...|[1.50981356222194...|   1.0|\n",
      "|    68|  0.0|             5.8| -230.15352|           29.0|          29.0|             29.0|      48.0|                 0.0|            0.0|      3.0|           0.0|            4.0|        2.0|              0.0|       0.0|          0.0|               0.0|           7.0|         29.0|          2.0|      0.0|         1.0|       0.0|               0.0|(23,[0,1,2,3,4,5,...|(23,[0,1,2,3,4,5,...|   1.0|\n",
      "|    90|  0.0|            9.25|  171.05765|           37.0|          37.0|             37.0|      45.0|                 0.0|            0.0|      2.0|           0.0|            3.0|        1.0|              0.0|       0.0|          0.0|               0.0|           0.0|         37.0|          0.0|      2.0|         0.0|       0.0|               0.0|(23,[0,1,2,3,4,5,...|(23,[0,1,2,3,4,5,...|   1.0|\n",
      "|   126|  0.0|        73.62857|  233.67616|         2229.0|        2577.0|           1643.0|    3102.0|                 0.0|           21.0|    119.0|          22.0|           35.0|       39.0|              4.0|       7.0|         17.0|              72.0|          33.0|       2577.0|        135.0|     15.0|         3.0|       2.0|               1.0|[73.6285705566406...|[0.27047546081126...|   1.0|\n",
      "|   131|  0.0|       260.66666|  187.95863|         1403.0|        1564.0|           1100.0|    1863.0|                 2.0|           20.0|     54.0|          15.0|            5.0|       18.0|              2.0|       5.0|         10.0|              51.0|          26.0|       1564.0|         72.0|     13.0|         1.0|       4.0|               1.0|[260.666656494140...|[0.95756217322117...|   1.0|\n",
      "|   140|  0.0|        64.36364|  241.90219|         4426.0|        5664.0|           2819.0|    6880.0|                 3.0|           75.0|    251.0|          50.0|           87.0|       89.0|              5.0|       9.0|         24.0|             148.0|         143.0|       5664.0|        277.0|     34.0|        10.0|       7.0|               4.0|[64.3636398315429...|[0.23644062367793...|   1.0|\n",
      "|    17|  1.0|           185.4| -3609.8801|          875.0|         927.0|            741.0|    1100.0|                 0.0|           13.0|     30.0|          12.0|            4.0|       15.0|              0.0|       2.0|          5.0|              30.0|          12.0|        927.0|         40.0|      5.0|         4.0|       0.0|               1.0|[185.399993896484...|[0.68106916112111...|  10.0|\n",
      "|   103|  1.0|        76.64286|   261.1934|          981.0|        1073.0|            834.0|    1308.0|                 1.0|            9.0|     45.0|          13.0|           14.0|       14.0|              1.0|       1.0|          5.0|              42.0|          25.0|       1073.0|         52.0|      7.0|         4.0|       0.0|               2.0|[76.6428604125976...|[0.28154849172365...|  10.0|\n",
      "|200005|  0.0|       23.166666|  263.77304|          138.0|         139.0|            131.0|     174.0|                 0.0|            0.0|      9.0|           0.0|            5.0|        3.0|              0.0|       0.0|          0.0|               5.0|           3.0|        139.0|          7.0|      0.0|         2.0|       0.0|               1.0|[23.1666660308837...|[0.08510303300460...|   1.0|\n",
      "|    38|  0.0|       440.66666|  27.091465|         1192.0|        1322.0|            939.0|    1570.0|                 1.0|           21.0|     58.0|           9.0|            2.0|       14.0|              1.0|       1.0|          7.0|              30.0|          21.0|       1322.0|         65.0|     12.0|         2.0|       3.0|               1.0|[440.666656494140...|[1.61879439025267...|   1.0|\n",
      "|    40|  0.0|       44.916668|  231.84312|         1004.0|        1078.0|            825.0|    1322.0|                 0.0|           11.0|     45.0|           2.0|           23.0|       13.0|              2.0|       2.0|          7.0|              39.0|          23.0|       1078.0|         66.0|      9.0|         1.0|       0.0|               1.0|[44.9166679382324...|[0.16500193290258...|   1.0|\n",
      "|   128|  0.0|           144.0|  291.58054|         1539.0|        1728.0|           1163.0|    2067.0|                 0.0|           18.0|     78.0|          14.0|           11.0|       25.0|              1.0|       3.0|         11.0|              53.0|          28.0|       1728.0|         87.0|      6.0|         1.0|       2.0|               1.0|[144.0,291.580535...|[0.52898577362520...|   1.0|\n",
      "|200024|  1.0|       14.892858|   250.5932|          402.0|         417.0|            368.0|     550.0|                 0.0|           13.0|     21.0|           4.0|           27.0|        7.0|              2.0|       0.0|          5.0|              15.0|           9.0|        417.0|         19.0|      4.0|         5.0|       1.0|               1.0|[14.8928575515747...|[0.05470909564867...|  10.0|\n",
      "|    23|  0.0|            32.8|   264.3505|          624.0|         656.0|            553.0|     782.0|                 0.0|            6.0|     19.0|           5.0|           19.0|        5.0|              0.0|       1.0|          1.0|              21.0|          15.0|        656.0|         28.0|      4.0|         1.0|       0.0|               1.0|[32.7999992370605...|[0.12049120118974...|   1.0|\n",
      "|    41|  0.0|           947.0|   96.75743|         1699.0|        1894.0|           1319.0|    2220.0|                 0.0|           10.0|     64.0|          23.0|            1.0|       20.0|              3.0|       3.0|          9.0|              61.0|          36.0|       1894.0|         76.0|     19.0|         0.0|       1.0|               0.0|[947.0,96.7574310...|[3.47881616404909...|   1.0|\n",
      "|100021|  1.0|       7.9310346| -1249.7649|          226.0|         230.0|            207.0|     317.0|                 0.0|            5.0|     15.0|           0.0|           30.0|        7.0|              0.0|       1.0|          0.0|               7.0|           7.0|        230.0|         11.0|      0.0|         2.0|       2.0|               0.0|[7.93103456497192...|[0.02913475315972...|  10.0|\n",
      "|    29|  1.0|       131.65218|  280.86948|         2562.0|        3028.0|           1804.0|    3601.0|                 0.0|           22.0|    121.0|          18.0|           22.0|       41.0|              4.0|       2.0|         19.0|              89.0|          47.0|       3028.0|        154.0|     28.0|         5.0|       0.0|               1.0|[131.652175903320...|[0.48362588971985...|  10.0|\n",
      "|    69|  0.0|          281.25|   266.4473|         1036.0|        1125.0|            865.0|    1342.0|                 0.0|            9.0|     49.0|           9.0|            3.0|       10.0|              1.0|       3.0|          3.0|              33.0|          12.0|       1125.0|         72.0|      7.0|         1.0|       4.0|               1.0|[281.25,266.44729...|[1.03317533911172...|   1.0|\n",
      "+------+-----+----------------+-----------+---------------+--------------+-----------------+----------+--------------------+---------------+---------+--------------+---------------+-----------+-----------------+----------+-------------+------------------+--------------+-------------+-------------+---------+------------+----------+------------------+--------------------+--------------------+------+\n",
      "only showing top 20 rows\n",
      "\n"
     ]
    }
   ],
   "source": [
    "featuredf = spark.read.csv(\"features.csv\", header=True)\n",
    "featuredf.persist()\n",
    "\n",
    "\n",
    "featurecolumns = featuredf.columns[1:]\n",
    "for col_name in featurecolumns:\n",
    "    featuredf = featuredf.withColumn(col_name, col(col_name).cast(\"float\"))\n",
    "\n",
    "assembler = VectorAssembler(inputCols = featuredf.columns[2:], outputCol = \"NumFeatures\", handleInvalid = \"skip\")\n",
    "featuredf = assembler.transform(featuredf)\n",
    "\n",
    "scaler = StandardScaler(inputCol = \"NumFeatures\", outputCol = \"ScaledNumFeatures\", withStd = True)\n",
    "scalerModel = scaler.fit(featuredf)\n",
    "featuredf = scalerModel.transform(featuredf)\n",
    "\n",
    "getWeight = udf(lambda label: float(10 if (label == 1.0) else 1), FloatType())\n",
    "featuredf = featuredf.withColumn(\"weight\", getWeight(featuredf.churn))\n",
    "\n",
    "featuredf.show()"
   ]
  },
  {
   "cell_type": "code",
   "execution_count": 4,
   "metadata": {},
   "outputs": [
    {
     "name": "stdout",
     "output_type": "stream",
     "text": [
      "+-----+-----+\n",
      "|label|count|\n",
      "+-----+-----+\n",
      "|  1.0|   37|\n",
      "|  0.0|  146|\n",
      "+-----+-----+\n",
      "\n",
      "+-----+-----+\n",
      "|label|count|\n",
      "+-----+-----+\n",
      "|  1.0|   15|\n",
      "|  0.0|   27|\n",
      "+-----+-----+\n",
      "\n"
     ]
    }
   ],
   "source": [
    "# Create data and split data to train, test and validation\n",
    "data = featuredf.select(col(\"churn\").alias(\"label\"), col(\"ScaledNumFeatures\").alias(\"features\"), col(\"weight\"))\n",
    "\n",
    "train, test = data.randomSplit([0.8, 0.2], seed = 27)\n",
    "train2, test2 = data.randomSplit([0.8, 0.2], seed = 42)\n",
    "train3, test3 = data.randomSplit([0.8, 0.2], seed = 3)\n",
    "train = train.cache()\n",
    "train2 = train2.cache()\n",
    "train3 = train3.cache()\n",
    "train.groupby(\"label\").count().show()\n",
    "test.groupby(\"label\").count().show()"
   ]
  },
  {
   "cell_type": "code",
   "execution_count": 5,
   "metadata": {},
   "outputs": [],
   "source": [
    "def GetF1Score(model, testdata):\n",
    "    # Formula from wikipedia https://en.wikipedia.org/wiki/F1_score\n",
    "    result = model.transform(testdata)\n",
    "    #result.show()\n",
    "    tpcount = result.where((result.label == 1) & (result.prediction == 1)).count()\n",
    "    fpcount = result.where((result.label == 0) & (result.prediction == 1)).count()\n",
    "    fncount = result.where((result.label == 1) & (result.prediction == 0)).count()\n",
    "    precision = 0\n",
    "    recall = 0\n",
    "    f1score = 0\n",
    "    if (tpcount + fpcount) != 0:\n",
    "        precision = tpcount / (tpcount + fpcount) \n",
    "    if (tpcount + fncount) != 0:\n",
    "        recall = tpcount / (tpcount + fncount)\n",
    "    if (precision + recall) != 0:\n",
    "        f1score = 2 * precision * recall / (precision + recall)\n",
    "    return f1score"
   ]
  },
  {
   "cell_type": "code",
   "execution_count": 6,
   "metadata": {},
   "outputs": [],
   "source": [
    "def AutoTuneModel(model, paramgrid, traindata, testdata, kfold):\n",
    "    cv = CrossValidator(estimator = model,\n",
    "                        estimatorParamMaps = paramgrid,\n",
    "                        evaluator = BinaryClassificationEvaluator(),\n",
    "                        numFolds = kfold)\n",
    "\n",
    "    model = cv.fit(train)\n",
    "    print(model.avgMetrics)\n",
    "    print(GetF1Score(model.bestModel, train))\n",
    "    print(GetF1Score(model.bestModel, test))\n",
    "    return model"
   ]
  },
  {
   "cell_type": "code",
   "execution_count": 9,
   "metadata": {},
   "outputs": [
    {
     "name": "stdout",
     "output_type": "stream",
     "text": [
      "<pyspark.ml.classification.BinaryLogisticRegressionTrainingSummary object at 0x7f1783c26668>\n",
      "0.6363636363636364\n",
      "[0.5025166191832858, 0.5358115341448675, 0.5293673918673919, 0.49490848657515324, 0.5169840499007166, 0.5207721445221445, 0.5027503669170336, 0.5366926746093412, 0.5568425170508504, 0.5, 0.5, 0.5, 0.5082590865924199, 0.5376136363636363, 0.5233620931537598, 0.5, 0.5, 0.5]\n",
      "0.34418604651162793\n",
      "0.5357142857142857\n",
      "[0.5025166191832858, 0.5358115341448675, 0.5293673918673919, 0.49490848657515324, 0.5169840499007166, 0.5207721445221445, 0.5027503669170336, 0.5366926746093412, 0.5568425170508504, 0.5, 0.5, 0.5, 0.5082590865924199, 0.5376136363636363, 0.5233620931537598, 0.5, 0.5, 0.5]\n",
      "0.34418604651162793\n",
      "0.5357142857142857\n",
      "[0.5025166191832858, 0.5358115341448675, 0.5293673918673919, 0.49490848657515324, 0.5169840499007166, 0.5207721445221445, 0.5027503669170336, 0.5366926746093412, 0.5568425170508504, 0.5, 0.5, 0.5, 0.5082590865924199, 0.5376136363636363, 0.5233620931537598, 0.5, 0.5, 0.5]\n",
      "0.34418604651162793\n",
      "0.5357142857142857\n"
     ]
    }
   ],
   "source": [
    "# Logistic regression\n",
    "lr = LogisticRegression(maxIter = 500, family = \"binomial\", weightCol = \"weight\")\n",
    "initmodellr = lr.fit(train)\n",
    "print(initmodellr.summary)\n",
    "print(GetF1Score(initmodellr, test))\n",
    "\n",
    "pglr = ParamGridBuilder() \\\n",
    "    .addGrid(lr.elasticNetParam,[0, 0.5, 1]) \\\n",
    "    .addGrid(lr.regParam,[0.001, 0.01, 0.1, 1, 10, 100]) \\\n",
    "    .build()\n",
    "\n",
    "\n",
    "modellr = AutoTuneModel(lr, pglr, train, test, 5)\n",
    "modellr2 = AutoTuneModel(lr, pglr, train2, test2, 5)\n",
    "modellr3 = AutoTuneModel(lr, pglr, train3, test3, 5)"
   ]
  },
  {
   "cell_type": "code",
   "execution_count": 10,
   "metadata": {},
   "outputs": [],
   "source": [
    "modellr.write().overwrite().save(\"lr.model\")"
   ]
  },
  {
   "cell_type": "code",
   "execution_count": 11,
   "metadata": {},
   "outputs": [
    {
     "name": "stdout",
     "output_type": "stream",
     "text": [
      "0\n",
      "[0.5156498748165415, 0.5333055987222654, 0.5333055987222654, 0.5333055987222654, 0.49957696624363285, 0.5066404428904429, 0.5084151342484676, 0.5084151342484676, 0.5082447336614003, 0.515607787274454, 0.5142399421566088, 0.5142399421566088, 0.49636903220236556, 0.51627849002849, 0.5148896011396011, 0.5148896011396011]\n",
      "0.6037735849056604\n",
      "0\n",
      "[0.5156498748165415, 0.5333055987222654, 0.5333055987222654, 0.5333055987222654, 0.49957696624363285, 0.5066404428904429, 0.5084151342484676, 0.5084151342484676, 0.5082447336614003, 0.515607787274454, 0.5142399421566088, 0.5142399421566088, 0.49636903220236556, 0.51627849002849, 0.5148896011396011, 0.5148896011396011]\n",
      "0.6037735849056604\n",
      "0\n",
      "[0.5156498748165415, 0.5333055987222654, 0.5333055987222654, 0.5333055987222654, 0.49957696624363285, 0.5066404428904429, 0.5084151342484676, 0.5084151342484676, 0.5082447336614003, 0.515607787274454, 0.5142399421566088, 0.5142399421566088, 0.49636903220236556, 0.51627849002849, 0.5148896011396011, 0.5148896011396011]\n",
      "0.6037735849056604\n",
      "0\n"
     ]
    }
   ],
   "source": [
    "# Random Forest\n",
    "rf = RandomForestClassifier(seed = 42, maxBins = 2)\n",
    "initmodelrf = rf.fit(train)\n",
    "print(GetF1Score(initmodelrf, test))\n",
    "\n",
    "pgrf = ParamGridBuilder() \\\n",
    "    .addGrid(rf.numTrees, [250, 500, 750, 1000]) \\\n",
    "    .addGrid(rf.maxDepth, [5, 10, 15, 20]) \\\n",
    "    .build()\n",
    "\n",
    "modelrf = AutoTuneModel(rf, pgrf, train, test, 5)\n",
    "modelrf2 = AutoTuneModel(rf, pgrf, train2, test2, 5)\n",
    "modelrf3 = AutoTuneModel(rf, pgrf, train3, test3, 5)"
   ]
  },
  {
   "cell_type": "code",
   "execution_count": 12,
   "metadata": {},
   "outputs": [],
   "source": [
    "modelrf.write().overwrite().save(\"rf.model\")"
   ]
  },
  {
   "cell_type": "code",
   "execution_count": 7,
   "metadata": {},
   "outputs": [
    {
     "name": "stdout",
     "output_type": "stream",
     "text": [
      "0.625\n",
      "[0.5503646199298373, 0.5503931482192352, 0.5316027979071457, 0.5344720844720845, 0.5502313915357393, 0.5582941441637094, 0.5418355461833723, 0.5553393933828716, 0.5517465430508909, 0.5567497426193078, 0.5452025495503756, 0.5647052690530951, 0.5546853514244819, 0.5582648941344593, 0.5452025495503756, 0.566557120904947]\n",
      "0.33636363636363636\n",
      "0.5263157894736842\n",
      "[0.5503646199298373, 0.5503931482192352, 0.5316027979071457, 0.5344720844720845, 0.5502313915357393, 0.5582941441637094, 0.5418355461833723, 0.5553393933828716, 0.5517465430508909, 0.5567497426193078, 0.5452025495503756, 0.5647052690530951, 0.5546853514244819, 0.5582648941344593, 0.5452025495503756, 0.566557120904947]\n",
      "0.33636363636363636\n",
      "0.5263157894736842\n",
      "[0.5503646199298373, 0.5503931482192352, 0.5316027979071457, 0.5344720844720845, 0.5502313915357393, 0.5582941441637094, 0.5418355461833723, 0.5553393933828716, 0.5517465430508909, 0.5567497426193078, 0.5452025495503756, 0.5647052690530951, 0.5546853514244819, 0.5582648941344593, 0.5452025495503756, 0.566557120904947]\n",
      "0.33636363636363636\n",
      "0.5263157894736842\n"
     ]
    }
   ],
   "source": [
    "# SVCClassifier\n",
    "svm = LinearSVC(maxIter = 100, weightCol = \"weight\")\n",
    "initmodelsvm = svm.fit(train)\n",
    "print(GetF1Score(initmodelsvm, test))\n",
    "\n",
    "pgsvm = ParamGridBuilder() \\\n",
    "    .addGrid(svm.maxIter, [50, 100, 150, 200]) \\\n",
    "    .addGrid(svm.regParam,[0.01, 0.1, 1, 10]) \\\n",
    "    .build()\n",
    "\n",
    "modelsvm = AutoTuneModel(svm, pgsvm, train, test, 5)\n",
    "modelsvm2 = AutoTuneModel(svm, pgsvm, train2, test2, 5)\n",
    "modelsvm3 = AutoTuneModel(svm, pgsvm, train3, test3, 5)"
   ]
  },
  {
   "cell_type": "code",
   "execution_count": 8,
   "metadata": {},
   "outputs": [],
   "source": [
    "modelsvm.write().overwrite().save(\"svm.model\")"
   ]
  },
  {
   "cell_type": "code",
   "execution_count": 6,
   "metadata": {},
   "outputs": [],
   "source": [
    "lrmodel = CrossValidatorModel.load(\"lr.model\")\n",
    "rfmodel = CrossValidatorModel.load(\"rf.model\")\n",
    "svmmodel = CrossValidatorModel.load(\"svm.model\")"
   ]
  },
  {
   "cell_type": "markdown",
   "metadata": {},
   "source": [
    "The result doesn't look promising. This could be due to the fact that the data volume is too small. From the training result, we can look into what field is contributing to the decision most. The best model for now is the random forest."
   ]
  },
  {
   "cell_type": "code",
   "execution_count": 10,
   "metadata": {},
   "outputs": [
    {
     "data": {
      "text/plain": [
       "SparseVector(23, {0: 0.1389, 1: 0.1017, 2: 0.0434, 3: 0.0197, 4: 0.0065, 5: 0.0282, 7: 0.0594, 8: 0.0575, 9: 0.0638, 10: 0.0607, 11: 0.0535, 12: 0.0129, 13: 0.0484, 14: 0.0236, 15: 0.0612, 16: 0.0573, 17: 0.0266, 18: 0.0688, 19: 0.0152, 20: 0.0333, 21: 0.0126, 22: 0.0068})"
      ]
     },
     "execution_count": 10,
     "metadata": {},
     "output_type": "execute_result"
    }
   ],
   "source": [
    "rfmodel.bestModel.featureImportances"
   ]
  },
  {
   "cell_type": "code",
   "execution_count": 11,
   "metadata": {},
   "outputs": [
    {
     "data": {
      "text/plain": [
       "['userId',\n",
       " 'churn',\n",
       " 'avgSongBetweenAd',\n",
       " 'avgSkipTime',\n",
       " 'UniqueSongCount',\n",
       " 'TotalSongCount',\n",
       " 'UniqueArtistCount',\n",
       " 'totalcount',\n",
       " 'SubmitDowngradecount',\n",
       " 'ThumbsDowncount',\n",
       " 'Homecount',\n",
       " 'Downgradecount',\n",
       " 'RollAdvertcount',\n",
       " 'Logoutcount',\n",
       " 'SaveSettingscount',\n",
       " 'Aboutcount',\n",
       " 'Settingscount',\n",
       " 'AddtoPlaylistcount',\n",
       " 'AddFriendcount',\n",
       " 'NextSongcount',\n",
       " 'ThumbsUpcount',\n",
       " 'Helpcount',\n",
       " 'Upgradecount',\n",
       " 'Errorcount',\n",
       " 'SubmitUpgradecount',\n",
       " 'NumFeatures',\n",
       " 'ScaledNumFeatures']"
      ]
     },
     "execution_count": 11,
     "metadata": {},
     "output_type": "execute_result"
    }
   ],
   "source": [
    "featuredf.columns"
   ]
  },
  {
   "cell_type": "markdown",
   "metadata": {},
   "source": [
    "# Final Steps\n",
    "Clean up your code, adding comments and renaming variables to make the code easier to read and maintain. Refer to the Spark Project Overview page and Data Scientist Capstone Project Rubric to make sure you are including all components of the capstone project and meet all expectations. Remember, this includes thorough documentation in a README file in a Github repository, as well as a web app or blog post."
   ]
  },
  {
   "cell_type": "code",
   "execution_count": null,
   "metadata": {},
   "outputs": [],
   "source": []
  },
  {
   "cell_type": "code",
   "execution_count": null,
   "metadata": {},
   "outputs": [],
   "source": []
  }
 ],
 "metadata": {
  "kernelspec": {
   "display_name": "Python 3",
   "language": "python",
   "name": "python3"
  },
  "language_info": {
   "codemirror_mode": {
    "name": "ipython",
    "version": 3
   },
   "file_extension": ".py",
   "mimetype": "text/x-python",
   "name": "python",
   "nbconvert_exporter": "python",
   "pygments_lexer": "ipython3",
   "version": "3.6.3"
  }
 },
 "nbformat": 4,
 "nbformat_minor": 2
}
